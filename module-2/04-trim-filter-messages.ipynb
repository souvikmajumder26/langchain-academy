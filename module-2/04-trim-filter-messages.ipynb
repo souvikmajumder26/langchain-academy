{
 "cells": [
  {
   "cell_type": "markdown",
   "id": "fb0ebaf1",
   "metadata": {},
   "source": [
    "[![Open in Colab](https://colab.research.google.com/assets/colab-badge.svg)](https://colab.research.google.com/github/langchain-ai/langchain-academy/blob/main/module-2/trim-filter-messages.ipynb) [![Open in LangChain Academy](https://cdn.prod.website-files.com/65b8cd72835ceeacd4449a53/66e9eba12c7b7688aa3dbb5e_LCA-badge-green.svg)](https://academy.langchain.com/courses/take/intro-to-langgraph/lessons/58239435-lesson-4-trim-and-filter-messages)"
   ]
  },
  {
   "cell_type": "markdown",
   "id": "c52ea2f9-03ff-4647-b782-46867ebed04e",
   "metadata": {},
   "source": [
    "# Filtering and trimming messages\n",
    "\n",
    "## Review\n",
    "\n",
    "Now, we have a deeper understanding of a few things: \n",
    "\n",
    "* How to customize the graph state schema\n",
    "* How to define custom state reducers\n",
    "* How to use multiple graph state schemas\n",
    "\n",
    "## Goals\n",
    "\n",
    "Now, we can start using these concepts with models in LangGraph!\n",
    " \n",
    "In the next few sessions, we'll build towards a chatbot that has long-term memory.\n",
    "\n",
    "Because our chatbot will use messages, let's first talk a bit more about advanced ways to work with messages in graph state."
   ]
  },
  {
   "cell_type": "code",
   "execution_count": null,
   "id": "d5197aba-5d46-421b-ae3b-4e3034edcfda",
   "metadata": {},
   "outputs": [],
   "source": [
    "%%capture --no-stderr\n",
    "%pip install --quiet -U langchain_core langgraph langchain_openai"
   ]
  },
  {
   "cell_type": "code",
   "execution_count": 1,
   "id": "768dc606-d5f2-468d-96ea-910b264e0f8a",
   "metadata": {},
   "outputs": [
    {
     "data": {
      "text/plain": [
       "True"
      ]
     },
     "execution_count": 1,
     "metadata": {},
     "output_type": "execute_result"
    }
   ],
   "source": [
    "import os, getpass\n",
    "from dotenv import load_dotenv\n",
    "\n",
    "# def _set_env(var: str):\n",
    "#     if not os.environ.get(var):\n",
    "#         os.environ[var] = getpass.getpass(f\"{var}: \")\n",
    "\n",
    "# _set_env(\"OPENAI_API_KEY\")\n",
    "\n",
    "load_dotenv(\"../.env\")"
   ]
  },
  {
   "cell_type": "markdown",
   "id": "8b64d8d3-e4ac-4961-bdc0-688825eb5864",
   "metadata": {},
   "source": [
    "We'll use [LangSmith](https://docs.smith.langchain.com/) for [tracing](https://docs.smith.langchain.com/concepts/tracing).\n",
    "\n",
    "We'll log to a project, `langchain-academy`. "
   ]
  },
  {
   "cell_type": "code",
   "execution_count": 2,
   "id": "dd020c79",
   "metadata": {},
   "outputs": [],
   "source": [
    "# _set_env(\"LANGCHAIN_API_KEY\")\n",
    "\n",
    "os.environ[\"LANGCHAIN_API_KEY\"] = os.getenv(\"langchain_api_key\")\n",
    "os.environ[\"LANGCHAIN_TRACING_V2\"] = os.getenv(\"langchain_tracing_v2\")\n",
    "os.environ[\"LANGCHAIN_PROJECT\"] = \"langchain-academy\""
   ]
  },
  {
   "cell_type": "markdown",
   "id": "72f3fc90-58b6-4f7f-897e-dddf6ae532c7",
   "metadata": {},
   "source": [
    "## Messages as state\n",
    "\n",
    "First, let's define some messages."
   ]
  },
  {
   "cell_type": "code",
   "execution_count": 6,
   "id": "cf11a463-e27a-4a05-b41d-64882e38edca",
   "metadata": {},
   "outputs": [
    {
     "name": "stdout",
     "output_type": "stream",
     "text": [
      "==================================\u001b[1m Ai Message \u001b[0m==================================\n",
      "Name: Bot\n",
      "\n",
      "So you said you were researching ocean mammals?\n",
      "================================\u001b[1m Human Message \u001b[0m=================================\n",
      "Name: Souvik\n",
      "\n",
      "Yes, I know about whales. But what others should I learn about?\n"
     ]
    }
   ],
   "source": [
    "from pprint import pprint\n",
    "from langchain_core.messages import AIMessage, HumanMessage\n",
    "messages = [AIMessage(f\"So you said you were researching ocean mammals?\", name=\"Bot\")]\n",
    "messages.append(HumanMessage(f\"Yes, I know about whales. But what others should I learn about?\", name=\"Souvik\"))\n",
    "\n",
    "for m in messages:\n",
    "    m.pretty_print()"
   ]
  },
  {
   "cell_type": "markdown",
   "id": "b814adcb-6bf9-4b75-be11-e59f933fbd0c",
   "metadata": {},
   "source": [
    "Recall we can pass them to a chat model."
   ]
  },
  {
   "cell_type": "code",
   "execution_count": 4,
   "id": "4712e288-e622-48a2-ad3f-a52f65f3ab08",
   "metadata": {},
   "outputs": [],
   "source": [
    "# from langchain_openai import ChatOpenAI\n",
    "# llm = ChatOpenAI(model=\"gpt-4o\")\n",
    "# llm.invoke(messages)\n",
    "\n",
    "from langchain_openai import AzureChatOpenAI\n",
    "\n",
    "llm = AzureChatOpenAI(\n",
    "    deployment_name = os.getenv(\"deployment_name\"),\n",
    "    model_name = os.getenv(\"model_name\"),\n",
    "    azure_endpoint = os.getenv(\"azure_endpoint\"),\n",
    "    openai_api_key = os.getenv(\"openai_api_key\"),\n",
    "    openai_api_version = os.getenv(\"openai_api_version\"),\n",
    "    temperature = 0)"
   ]
  },
  {
   "cell_type": "markdown",
   "id": "fbd1dab8-0af8-4621-8264-ce65065f76ec",
   "metadata": {},
   "source": [
    "We can run our chat model in a simple graph with `MessagesState`."
   ]
  },
  {
   "cell_type": "code",
   "execution_count": 5,
   "id": "bbd8c39c-633b-4176-9cc6-8318e42bb5dd",
   "metadata": {},
   "outputs": [
    {
     "data": {
      "image/png": "[encoded data removed]",
      "text/plain": [
       "<IPython.core.display.Image object>"
      ]
     },
     "metadata": {},
     "output_type": "display_data"
    }
   ],
   "source": [
    "from IPython.display import Image, display\n",
    "from langgraph.graph import MessagesState\n",
    "from langgraph.graph import StateGraph, START, END\n",
    "\n",
    "# Node\n",
    "def chat_model_node(state: MessagesState):\n",
    "    return {\"messages\": llm.invoke(state[\"messages\"])}\n",
    "\n",
    "# Build graph\n",
    "builder = StateGraph(MessagesState)\n",
    "builder.add_node(\"chat_model\", chat_model_node)\n",
    "builder.add_edge(START, \"chat_model\")\n",
    "builder.add_edge(\"chat_model\", END)\n",
    "graph = builder.compile()\n",
    "\n",
    "# View\n",
    "display(Image(graph.get_graph().draw_mermaid_png()))"
   ]
  },
  {
   "cell_type": "code",
   "execution_count": 7,
   "id": "3a5a3e4a-ccfd-4d14-81f1-f0de6e11a1e4",
   "metadata": {},
   "outputs": [
    {
     "name": "stdout",
     "output_type": "stream",
     "text": [
      "==================================\u001b[1m Ai Message \u001b[0m==================================\n",
      "Name: Bot\n",
      "\n",
      "So you said you were researching ocean mammals?\n",
      "================================\u001b[1m Human Message \u001b[0m=================================\n",
      "Name: Souvik\n",
      "\n",
      "Yes, I know about whales. But what others should I learn about?\n",
      "==================================\u001b[1m Ai Message \u001b[0m==================================\n",
      "\n",
      "That's great that you know about whales! There are many other fascinating ocean mammals you can learn about. Here are a few:\n",
      "\n",
      "1. **Dolphins**: These intelligent and social creatures are known for their playful behavior and complex communication skills. There are many species of dolphins, including the well-known bottlenose dolphin.\n",
      "\n",
      "2. **Porpoises**: Often confused with dolphins, porpoises are smaller and have different physical characteristics, such as a more rounded snout and spade-shaped teeth.\n",
      "\n",
      "3. **Seals**: These marine mammals are part of the pinniped family, which also includes sea lions and walruses. Seals are known for their streamlined bodies and ability to live both in water and on land.\n",
      "\n",
      "4. **Sea Lions**: Unlike seals, sea lions have external ear flaps and can use their large flippers to \"walk\" on land. They are also known for their loud barking and social behavior.\n",
      "\n",
      "5. **Walruses**: Recognizable by their long tusks and whiskers, walruses are large marine mammals that live in Arctic regions. They use their tusks to help them climb out of the water and onto ice.\n",
      "\n",
      "6. **Manatees and Dugongs**: These gentle herbivores are often referred to as \"sea cows.\" Manatees are found in the warm coastal waters of the Atlantic, while dugongs are found in the Indian and Pacific Oceans.\n",
      "\n",
      "7. **Sea Otters**: These small marine mammals are known for their playful behavior and use of tools to open shellfish. They have thick fur to keep them warm in cold waters.\n",
      "\n",
      "8. **Polar Bears**: While not exclusively marine, polar bears are excellent swimmers and spend much of their time on sea ice hunting for seals.\n",
      "\n",
      "Each of these ocean mammals has unique adaptations and behaviors that make them fascinating to study. Enjoy your research!\n"
     ]
    }
   ],
   "source": [
    "output = graph.invoke({'messages': messages})\n",
    "for m in output['messages']:\n",
    "    m.pretty_print()"
   ]
  },
  {
   "cell_type": "markdown",
   "id": "34c33e63-1ef4-412d-bb10-6a1b9e5b35a7",
   "metadata": {},
   "source": [
    "## Reducer\n",
    "\n",
    "A practical challenge when working with messages is managing long-running conversations. \n",
    "\n",
    "Long-running conversations result in high token usage and latency if we are not careful, because we pass a growing list of messages to the model.\n",
    "\n",
    "We have a few ways to address this.\n",
    "\n",
    "First, recall the trick we saw using `RemoveMessage` and the `add_messages` reducer."
   ]
  },
  {
   "cell_type": "code",
   "execution_count": 8,
   "id": "222c6bc5-bb0e-4a43-80f5-c8ec38d99f3a",
   "metadata": {},
   "outputs": [
    {
     "data": {
      "image/png": "[encoded data removed]",
      "text/plain": [
       "<IPython.core.display.Image object>"
      ]
     },
     "metadata": {},
     "output_type": "display_data"
    }
   ],
   "source": [
    "from langchain_core.messages import RemoveMessage\n",
    "\n",
    "# Nodes\n",
    "def filter_messages(state: MessagesState):\n",
    "    # Delete all but the 2 most recent messages\n",
    "    delete_messages = [RemoveMessage(id=m.id) for m in state[\"messages\"][:-2]]\n",
    "    return {\"messages\": delete_messages}\n",
    "\n",
    "def chat_model_node(state: MessagesState):    \n",
    "    return {\"messages\": [llm.invoke(state[\"messages\"])]}\n",
    "\n",
    "# Build graph\n",
    "builder = StateGraph(MessagesState)\n",
    "builder.add_node(\"filter\", filter_messages)\n",
    "builder.add_node(\"chat_model\", chat_model_node)\n",
    "builder.add_edge(START, \"filter\")\n",
    "builder.add_edge(\"filter\", \"chat_model\")\n",
    "builder.add_edge(\"chat_model\", END)\n",
    "graph = builder.compile()\n",
    "\n",
    "# View\n",
    "display(Image(graph.get_graph().draw_mermaid_png()))"
   ]
  },
  {
   "cell_type": "code",
   "execution_count": 9,
   "id": "95a7c2cc-54ce-43e7-9a90-abf37827d709",
   "metadata": {},
   "outputs": [
    {
     "name": "stdout",
     "output_type": "stream",
     "text": [
      "==================================\u001b[1m Ai Message \u001b[0m==================================\n",
      "Name: Bot\n",
      "\n",
      "So you said you were researching ocean mammals?\n",
      "================================\u001b[1m Human Message \u001b[0m=================================\n",
      "Name: Souvik\n",
      "\n",
      "Yes, I know about whales. But what others should I learn about?\n",
      "==================================\u001b[1m Ai Message \u001b[0m==================================\n",
      "\n",
      "That's great that you know about whales! There are many other fascinating ocean mammals you can learn about. Here are a few:\n",
      "\n",
      "1. **Dolphins**: Highly intelligent and social animals, dolphins are known for their playful behavior and complex communication skills.\n",
      "\n",
      "2. **Porpoises**: Similar to dolphins but generally smaller and with different facial structures, porpoises are also interesting marine mammals.\n",
      "\n",
      "3. **Seals**: There are various species of seals, including harbor seals and elephant seals. They are known for their ability to live both in water and on land.\n",
      "\n",
      "4. **Sea Lions**: Often confused with seals, sea lions are more agile on land due to their ability to rotate their hind flippers forward.\n",
      "\n",
      "5. **Walruses**: Recognizable by their long tusks and whiskers, walruses are large marine mammals that live in Arctic regions.\n",
      "\n",
      "6. **Manatees and Dugongs**: These gentle giants, also known as sea cows, are herbivorous and can be found in warm coastal waters and rivers.\n",
      "\n",
      "7. **Sea Otters**: Known for their use of tools to open shellfish, sea otters are important for maintaining the health of kelp forest ecosystems.\n",
      "\n",
      "8. **Polar Bears**: While not exclusively marine, polar bears spend much of their time on sea ice and are excellent swimmers.\n",
      "\n",
      "Each of these animals has unique adaptations and behaviors that make them fascinating subjects of study.\n"
     ]
    }
   ],
   "source": [
    "# Message list with a preamble\n",
    "messages = [AIMessage(\"Hi.\", name=\"Bot\", id=\"1\")]\n",
    "messages.append(HumanMessage(\"Hi.\", name=\"Souvik\", id=\"2\"))\n",
    "messages.append(AIMessage(\"So you said you were researching ocean mammals?\", name=\"Bot\", id=\"3\"))\n",
    "messages.append(HumanMessage(\"Yes, I know about whales. But what others should I learn about?\", name=\"Souvik\", id=\"4\"))\n",
    "\n",
    "# Invoke\n",
    "output = graph.invoke({'messages': messages})\n",
    "for m in output['messages']:\n",
    "    m.pretty_print()"
   ]
  },
  {
   "cell_type": "markdown",
   "id": "f506457d-014b-4fee-a684-e5edfb4b8f0d",
   "metadata": {},
   "source": [
    "## Filtering messages\n",
    "\n",
    "If you don't need or want to modify the graph state, you can just filter the messages you pass to the chat model.\n",
    "\n",
    "For example, just pass in a filtered list: `llm.invoke(messages[-1:])` to the model."
   ]
  },
  {
   "cell_type": "code",
   "execution_count": 10,
   "id": "22d0b904-7cd6-486b-8948-105bee3d4683",
   "metadata": {},
   "outputs": [
    {
     "data": {
      "image/png": "[encoded data removed]",
      "text/plain": [
       "<IPython.core.display.Image object>"
      ]
     },
     "metadata": {},
     "output_type": "display_data"
    }
   ],
   "source": [
    "# Node\n",
    "def chat_model_node(state: MessagesState):\n",
    "    return {\"messages\": [llm.invoke(state[\"messages\"][-1:])]}\n",
    "\n",
    "# Build graph\n",
    "builder = StateGraph(MessagesState)\n",
    "builder.add_node(\"chat_model\", chat_model_node)\n",
    "builder.add_edge(START, \"chat_model\")\n",
    "builder.add_edge(\"chat_model\", END)\n",
    "graph = builder.compile()\n",
    "\n",
    "# View\n",
    "display(Image(graph.get_graph().draw_mermaid_png()))"
   ]
  },
  {
   "cell_type": "markdown",
   "id": "6f58c6fc-532f-418d-b70a-cfcb3307daf5",
   "metadata": {},
   "source": [
    "Let's take our existing list of messages, append the above LLM response, and append a follow-up question."
   ]
  },
  {
   "cell_type": "code",
   "execution_count": 11,
   "id": "16956015-1dbe-4108-89b5-4209b68b51ca",
   "metadata": {},
   "outputs": [],
   "source": [
    "messages.append(output['messages'][-1])\n",
    "messages.append(HumanMessage(f\"Tell me more about Narwhals!\", name=\"Souvik\"))"
   ]
  },
  {
   "cell_type": "code",
   "execution_count": 12,
   "id": "85563415-c085-46a8-a4ac-155df798c54e",
   "metadata": {},
   "outputs": [
    {
     "name": "stdout",
     "output_type": "stream",
     "text": [
      "==================================\u001b[1m Ai Message \u001b[0m==================================\n",
      "Name: Bot\n",
      "\n",
      "Hi.\n",
      "================================\u001b[1m Human Message \u001b[0m=================================\n",
      "Name: Souvik\n",
      "\n",
      "Hi.\n",
      "==================================\u001b[1m Ai Message \u001b[0m==================================\n",
      "Name: Bot\n",
      "\n",
      "So you said you were researching ocean mammals?\n",
      "================================\u001b[1m Human Message \u001b[0m=================================\n",
      "Name: Souvik\n",
      "\n",
      "Yes, I know about whales. But what others should I learn about?\n",
      "==================================\u001b[1m Ai Message \u001b[0m==================================\n",
      "\n",
      "That's great that you know about whales! There are many other fascinating ocean mammals you can learn about. Here are a few:\n",
      "\n",
      "1. **Dolphins**: Highly intelligent and social animals, dolphins are known for their playful behavior and complex communication skills.\n",
      "\n",
      "2. **Porpoises**: Similar to dolphins but generally smaller and with different facial structures, porpoises are also interesting marine mammals.\n",
      "\n",
      "3. **Seals**: There are various species of seals, including harbor seals and elephant seals. They are known for their ability to live both in water and on land.\n",
      "\n",
      "4. **Sea Lions**: Often confused with seals, sea lions are more agile on land due to their ability to rotate their hind flippers forward.\n",
      "\n",
      "5. **Walruses**: Recognizable by their long tusks and whiskers, walruses are large marine mammals that live in Arctic regions.\n",
      "\n",
      "6. **Manatees and Dugongs**: These gentle giants, also known as sea cows, are herbivorous and can be found in warm coastal waters and rivers.\n",
      "\n",
      "7. **Sea Otters**: Known for their use of tools to open shellfish, sea otters are important for maintaining the health of kelp forest ecosystems.\n",
      "\n",
      "8. **Polar Bears**: While not exclusively marine, polar bears spend much of their time on sea ice and are excellent swimmers.\n",
      "\n",
      "Each of these animals has unique adaptations and behaviors that make them fascinating subjects of study.\n",
      "================================\u001b[1m Human Message \u001b[0m=================================\n",
      "Name: Souvik\n",
      "\n",
      "Tell me more about Narwhals!\n"
     ]
    }
   ],
   "source": [
    "for m in messages:\n",
    "    m.pretty_print()"
   ]
  },
  {
   "cell_type": "code",
   "execution_count": 13,
   "id": "23349705-a059-47b5-9760-d8f64e687393",
   "metadata": {},
   "outputs": [
    {
     "name": "stdout",
     "output_type": "stream",
     "text": [
      "==================================\u001b[1m Ai Message \u001b[0m==================================\n",
      "Name: Bot\n",
      "\n",
      "Hi.\n",
      "================================\u001b[1m Human Message \u001b[0m=================================\n",
      "Name: Souvik\n",
      "\n",
      "Hi.\n",
      "==================================\u001b[1m Ai Message \u001b[0m==================================\n",
      "Name: Bot\n",
      "\n",
      "So you said you were researching ocean mammals?\n",
      "================================\u001b[1m Human Message \u001b[0m=================================\n",
      "Name: Souvik\n",
      "\n",
      "Yes, I know about whales. But what others should I learn about?\n",
      "==================================\u001b[1m Ai Message \u001b[0m==================================\n",
      "\n",
      "That's great that you know about whales! There are many other fascinating ocean mammals you can learn about. Here are a few:\n",
      "\n",
      "1. **Dolphins**: Highly intelligent and social animals, dolphins are known for their playful behavior and complex communication skills.\n",
      "\n",
      "2. **Porpoises**: Similar to dolphins but generally smaller and with different facial structures, porpoises are also interesting marine mammals.\n",
      "\n",
      "3. **Seals**: There are various species of seals, including harbor seals and elephant seals. They are known for their ability to live both in water and on land.\n",
      "\n",
      "4. **Sea Lions**: Often confused with seals, sea lions are more agile on land due to their ability to rotate their hind flippers forward.\n",
      "\n",
      "5. **Walruses**: Recognizable by their long tusks and whiskers, walruses are large marine mammals that live in Arctic regions.\n",
      "\n",
      "6. **Manatees and Dugongs**: These gentle giants, also known as sea cows, are herbivorous and can be found in warm coastal waters and rivers.\n",
      "\n",
      "7. **Sea Otters**: Known for their use of tools to open shellfish, sea otters are important for maintaining the health of kelp forest ecosystems.\n",
      "\n",
      "8. **Polar Bears**: While not exclusively marine, polar bears spend much of their time on sea ice and are excellent swimmers.\n",
      "\n",
      "Each of these animals has unique adaptations and behaviors that make them fascinating subjects of study.\n",
      "================================\u001b[1m Human Message \u001b[0m=================================\n",
      "Name: Souvik\n",
      "\n",
      "Tell me more about Narwhals!\n",
      "==================================\u001b[1m Ai Message \u001b[0m==================================\n",
      "\n",
      "Narwhals (Monodon monoceros) are fascinating marine mammals known for their distinctive long, spiral tusks that protrude from their heads. Here are some key points about narwhals:\n",
      "\n",
      "### Physical Characteristics:\n",
      "1. **Tusks**: The most notable feature of narwhals is the long tusk, which is actually an elongated upper left canine tooth. In males, this tusk can grow up to 10 feet (3 meters) long. Some females also have tusks, but they are usually shorter and less common.\n",
      "2. **Size**: Narwhals are medium-sized whales, with males typically reaching lengths of 13-18 feet (4-5.5 meters) and females being slightly smaller.\n",
      "3. **Coloration**: They have a mottled black and white coloration, which helps them blend into their Arctic environment.\n",
      "\n",
      "### Habitat:\n",
      "- Narwhals are primarily found in the Arctic waters around Greenland, Canada, and Russia. They are well-adapted to life in cold, icy environments and are often found in areas with heavy pack ice.\n",
      "\n",
      "### Behavior and Diet:\n",
      "- **Diving**: Narwhals are deep divers and can reach depths of up to 1,500 meters (4,900 feet) in search of food. They are known to dive multiple times a day.\n",
      "- **Diet**: Their diet mainly consists of fish, squid, and shrimp. They use echolocation to find their prey in the dark, deep waters.\n",
      "- **Social Structure**: Narwhals are social animals and are often found in groups called pods, which can range from a few individuals to several dozen.\n",
      "\n",
      "### Reproduction:\n",
      "- Narwhals have a slow reproductive rate. Females give birth to a single calf after a gestation period of about 14 months. Calves are usually born in the summer when the ice is at its minimum.\n",
      "\n",
      "### Conservation Status:\n",
      "- Narwhals are currently classified as \"Near Threatened\" by the International Union for Conservation of Nature (IUCN). They face threats from climate change, which affects their icy habitat, as well as from hunting and industrial activities in the Arctic.\n",
      "\n",
      "### Cultural Significance:\n",
      "- Narwhals have been part of Inuit culture for centuries, and their tusks were historically traded as \"unicorn horns\" in medieval Europe, contributing to the myth of the unicorn.\n",
      "\n",
      "### Research and Study:\n",
      "- Scientists continue to study narwhals to understand more about their behavior, biology, and how they are adapting to changing Arctic conditions. Their tusks are of particular interest, as they contain sensory capabilities that help narwhals detect changes in their environment.\n",
      "\n",
      "Narwhals are truly unique creatures, and ongoing research is crucial to ensure their conservation and to understand the impacts of environmental changes on their populations.\n"
     ]
    }
   ],
   "source": [
    "# Invoke, using message filtering\n",
    "output = graph.invoke({'messages': messages})\n",
    "for m in output['messages']:\n",
    "    m.pretty_print()"
   ]
  },
  {
   "cell_type": "markdown",
   "id": "42e1d8d2-e297-4d78-b54c-d12b3c866745",
   "metadata": {},
   "source": [
    "The state has all of the mesages.\n",
    "\n",
    "But, let's look at the LangSmith trace to see that the model invocation only uses the last message:\n",
    "\n",
    "https://smith.langchain.com/public/4f50372e-755b-4f87-8b29-575accf4dfd8/r"
   ]
  },
  {
   "cell_type": "markdown",
   "id": "fc40d930-3c1f-47fe-8d2a-ce174873353c",
   "metadata": {},
   "source": [
    "## Trim messages\n",
    "\n",
    "Another approach is to [trim messages](https://python.langchain.com/v0.2/docs/how_to/trim_messages/#getting-the-last-max_tokens-tokens), based upon a set number of tokens. \n",
    "\n",
    "This restricts the message history to a specified number of tokens.\n",
    "\n",
    "While filtering only returns a post-hoc subset of the messages between agents, trimming restricts the number of tokens that a chat model can use to respond.\n",
    "\n",
    "See the `trim_messages` below."
   ]
  },
  {
   "cell_type": "code",
   "execution_count": 33,
   "id": "2ff99b81-cf03-4cc2-b44f-44829a73e1fd",
   "metadata": {},
   "outputs": [
    {
     "data": {
      "image/png": "[encoded data removed]",
      "text/plain": [
       "<IPython.core.display.Image object>"
      ]
     },
     "metadata": {},
     "output_type": "display_data"
    }
   ],
   "source": [
    "from langchain_core.messages import trim_messages\n",
    "\n",
    "# Node\n",
    "def chat_model_node(state: MessagesState):\n",
    "    messages = trim_messages(\n",
    "            state[\"messages\"],\n",
    "            max_tokens = 600,\n",
    "            strategy = \"last\",\n",
    "            token_counter = llm,\n",
    "            allow_partial = False,\n",
    "        )\n",
    "    return {\"messages\": [llm.invoke(messages)]}\n",
    "\n",
    "# Build graph\n",
    "builder = StateGraph(MessagesState)\n",
    "builder.add_node(\"chat_model\", chat_model_node)\n",
    "builder.add_edge(START, \"chat_model\")\n",
    "builder.add_edge(\"chat_model\", END)\n",
    "graph = builder.compile()\n",
    "\n",
    "# View\n",
    "display(Image(graph.get_graph().draw_mermaid_png()))"
   ]
  },
  {
   "cell_type": "code",
   "execution_count": 34,
   "id": "24df63ac-da29-4874-b3df-7e390e97cc8a",
   "metadata": {},
   "outputs": [],
   "source": [
    "messages.append(output['messages'][-1])\n",
    "messages.append(HumanMessage(f\"Tell me where Orcas live!\", name=\"Souvik\"))"
   ]
  },
  {
   "cell_type": "code",
   "execution_count": 38,
   "id": "fcd9f2d2",
   "metadata": {},
   "outputs": [
    {
     "data": {
      "text/plain": [
       "[AIMessage(content='Hi.', additional_kwargs={}, response_metadata={}, name='Bot', id='1'),\n",
       " HumanMessage(content='Hi.', additional_kwargs={}, response_metadata={}, name='Souvik', id='2'),\n",
       " AIMessage(content='So you said you were researching ocean mammals?', additional_kwargs={}, response_metadata={}, name='Bot', id='3'),\n",
       " HumanMessage(content='Yes, I know about whales. But what others should I learn about?', additional_kwargs={}, response_metadata={}, name='Souvik', id='4'),\n",
       " AIMessage(content=\"That's great that you know about whales! There are many other fascinating ocean mammals you can learn about. Here are a few:\\n\\n1. **Dolphins**: Highly intelligent and social animals, dolphins are known for their playful behavior and complex communication skills.\\n\\n2. **Porpoises**: Similar to dolphins but generally smaller and with different facial structures, porpoises are also interesting marine mammals.\\n\\n3. **Seals**: There are various species of seals, including harbor seals and elephant seals. They are known for their ability to live both in water and on land.\\n\\n4. **Sea Lions**: Often confused with seals, sea lions are more agile on land due to their ability to rotate their hind flippers forward.\\n\\n5. **Walruses**: Recognizable by their long tusks and whiskers, walruses are large marine mammals that live in Arctic regions.\\n\\n6. **Manatees and Dugongs**: These gentle giants, also known as sea cows, are herbivorous and can be found in warm coastal waters and rivers.\\n\\n7. **Sea Otters**: Known for their use of tools to open shellfish, sea otters are important for maintaining the health of kelp forest ecosystems.\\n\\n8. **Polar Bears**: While not exclusively marine, polar bears spend much of their time on sea ice and are excellent swimmers.\\n\\nEach of these animals has unique adaptations and behaviors that make them fascinating subjects of study.\", additional_kwargs={'refusal': None}, response_metadata={'token_usage': {'completion_tokens': 293, 'prompt_tokens': 40, 'total_tokens': 333, 'completion_tokens_details': {'accepted_prediction_tokens': 0, 'audio_tokens': 0, 'reasoning_tokens': 0, 'rejected_prediction_tokens': 0}, 'prompt_tokens_details': {'audio_tokens': 0, 'cached_tokens': 0}}, 'model_name': 'gpt-4o-2024-05-13', 'system_fingerprint': 'fp_b705f0c291', 'prompt_filter_results': [{'prompt_index': 0, 'content_filter_results': {'hate': {'filtered': False, 'severity': 'safe'}, 'self_harm': {'filtered': False, 'severity': 'safe'}, 'sexual': {'filtered': False, 'severity': 'safe'}, 'violence': {'filtered': False, 'severity': 'safe'}}}], 'finish_reason': 'stop', 'logprobs': None, 'content_filter_results': {'hate': {'filtered': False, 'severity': 'safe'}, 'self_harm': {'filtered': False, 'severity': 'safe'}, 'sexual': {'filtered': False, 'severity': 'safe'}, 'violence': {'filtered': False, 'severity': 'safe'}}}, id='run-2c070311-f822-44e5-a766-476f62446880-0', usage_metadata={'input_tokens': 40, 'output_tokens': 293, 'total_tokens': 333, 'input_token_details': {'audio': 0, 'cache_read': 0}, 'output_token_details': {'audio': 0, 'reasoning': 0}}),\n",
       " HumanMessage(content='Tell me more about Narwhals!', additional_kwargs={}, response_metadata={}, name='Souvik', id='8655b8ba-0b38-44e6-aeb8-9171357a72f1'),\n",
       " AIMessage(content='Narwhals (Monodon monoceros) are fascinating marine mammals known for their distinctive long, spiral tusks that protrude from their heads. Here are some key points about narwhals:\\n\\n### Physical Characteristics:\\n1. **Tusks**: The most notable feature of narwhals is the long tusk, which is actually an elongated upper left canine tooth. In males, this tusk can grow up to 10 feet (3 meters) long. Some females also have tusks, but they are usually shorter and less common.\\n2. **Size**: Narwhals are medium-sized whales, with males typically reaching lengths of 13-18 feet (4-5.5 meters) and females being slightly smaller.\\n3. **Coloration**: They have a mottled black and white coloration, which helps them blend into their Arctic environment.\\n\\n### Habitat:\\n- Narwhals are primarily found in the Arctic waters around Greenland, Canada, and Russia. They are well-adapted to life in cold, icy environments and are often found in areas with heavy pack ice.\\n\\n### Behavior and Diet:\\n- **Diving**: Narwhals are deep divers and can reach depths of up to 1,500 meters (4,900 feet) in search of food. They are known to dive multiple times a day.\\n- **Diet**: Their diet mainly consists of fish, squid, and shrimp. They use echolocation to find their prey in the dark, deep waters.\\n- **Social Structure**: Narwhals are social animals and are often found in groups called pods, which can range from a few individuals to several dozen.\\n\\n### Reproduction:\\n- Narwhals have a slow reproductive rate. Females give birth to a single calf after a gestation period of about 14 months. Calves are usually born in the summer when the ice is at its minimum.\\n\\n### Conservation Status:\\n- Narwhals are currently classified as \"Near Threatened\" by the International Union for Conservation of Nature (IUCN). They face threats from climate change, which affects their icy habitat, as well as from hunting and industrial activities in the Arctic.\\n\\n### Cultural Significance:\\n- Narwhals have been part of Inuit culture for centuries, and their tusks were historically traded as \"unicorn horns\" in medieval Europe, contributing to the myth of the unicorn.\\n\\n### Research and Study:\\n- Scientists continue to study narwhals to understand more about their behavior, biology, and how they are adapting to changing Arctic conditions. Their tusks are of particular interest, as they contain sensory capabilities that help narwhals detect changes in their environment.\\n\\nNarwhals are truly unique creatures, and ongoing research is crucial to ensure their conservation and to understand the impacts of environmental changes on their populations.', additional_kwargs={'refusal': None}, response_metadata={'token_usage': {'completion_tokens': 566, 'prompt_tokens': 18, 'total_tokens': 584, 'completion_tokens_details': {'accepted_prediction_tokens': 0, 'audio_tokens': 0, 'reasoning_tokens': 0, 'rejected_prediction_tokens': 0}, 'prompt_tokens_details': {'audio_tokens': 0, 'cached_tokens': 0}}, 'model_name': 'gpt-4o-2024-05-13', 'system_fingerprint': 'fp_b705f0c291', 'prompt_filter_results': [{'prompt_index': 0, 'content_filter_results': {'hate': {'filtered': False, 'severity': 'safe'}, 'self_harm': {'filtered': False, 'severity': 'safe'}, 'sexual': {'filtered': False, 'severity': 'safe'}, 'violence': {'filtered': False, 'severity': 'safe'}}}], 'finish_reason': 'stop', 'logprobs': None, 'content_filter_results': {'hate': {'filtered': False, 'severity': 'safe'}, 'self_harm': {'filtered': False, 'severity': 'safe'}, 'sexual': {'filtered': False, 'severity': 'safe'}, 'violence': {'filtered': False, 'severity': 'safe'}}}, id='run-4e67be14-badc-4857-9147-5b4acc79d5f0-0', usage_metadata={'input_tokens': 18, 'output_tokens': 566, 'total_tokens': 584, 'input_token_details': {'audio': 0, 'cache_read': 0}, 'output_token_details': {'audio': 0, 'reasoning': 0}}),\n",
       " HumanMessage(content='Tell me where Orcas live!', additional_kwargs={}, response_metadata={}, name='Souvik', id='4f54ef7f-ae1d-4f80-8c7e-0626220ef234')]"
      ]
     },
     "execution_count": 38,
     "metadata": {},
     "output_type": "execute_result"
    }
   ],
   "source": [
    "messages"
   ]
  },
  {
   "cell_type": "code",
   "execution_count": 39,
   "id": "6d9d8971-c75c-43ca-a209-eb1d07b2ead0",
   "metadata": {},
   "outputs": [
    {
     "data": {
      "text/plain": [
       "[HumanMessage(content='Tell me more about Narwhals!', additional_kwargs={}, response_metadata={}, name='Souvik', id='8655b8ba-0b38-44e6-aeb8-9171357a72f1'),\n",
       " AIMessage(content='Narwhals (Monodon monoceros) are fascinating marine mammals known for their distinctive long, spiral tusks that protrude from their heads. Here are some key points about narwhals:\\n\\n### Physical Characteristics:\\n1. **Tusks**: The most notable feature of narwhals is the long tusk, which is actually an elongated upper left canine tooth. In males, this tusk can grow up to 10 feet (3 meters) long. Some females also have tusks, but they are usually shorter and less common.\\n2. **Size**: Narwhals are medium-sized whales, with males typically reaching lengths of 13-18 feet (4-5.5 meters) and females being slightly smaller.\\n3. **Coloration**: They have a mottled black and white coloration, which helps them blend into their Arctic environment.\\n\\n### Habitat:\\n- Narwhals are primarily found in the Arctic waters around Greenland, Canada, and Russia. They are well-adapted to life in cold, icy environments and are often found in areas with heavy pack ice.\\n\\n### Behavior and Diet:\\n- **Diving**: Narwhals are deep divers and can reach depths of up to 1,500 meters (4,900 feet) in search of food. They are known to dive multiple times a day.\\n- **Diet**: Their diet mainly consists of fish, squid, and shrimp. They use echolocation to find their prey in the dark, deep waters.\\n- **Social Structure**: Narwhals are social animals and are often found in groups called pods, which can range from a few individuals to several dozen.\\n\\n### Reproduction:\\n- Narwhals have a slow reproductive rate. Females give birth to a single calf after a gestation period of about 14 months. Calves are usually born in the summer when the ice is at its minimum.\\n\\n### Conservation Status:\\n- Narwhals are currently classified as \"Near Threatened\" by the International Union for Conservation of Nature (IUCN). They face threats from climate change, which affects their icy habitat, as well as from hunting and industrial activities in the Arctic.\\n\\n### Cultural Significance:\\n- Narwhals have been part of Inuit culture for centuries, and their tusks were historically traded as \"unicorn horns\" in medieval Europe, contributing to the myth of the unicorn.\\n\\n### Research and Study:\\n- Scientists continue to study narwhals to understand more about their behavior, biology, and how they are adapting to changing Arctic conditions. Their tusks are of particular interest, as they contain sensory capabilities that help narwhals detect changes in their environment.\\n\\nNarwhals are truly unique creatures, and ongoing research is crucial to ensure their conservation and to understand the impacts of environmental changes on their populations.', additional_kwargs={'refusal': None}, response_metadata={'token_usage': {'completion_tokens': 566, 'prompt_tokens': 18, 'total_tokens': 584, 'completion_tokens_details': {'accepted_prediction_tokens': 0, 'audio_tokens': 0, 'reasoning_tokens': 0, 'rejected_prediction_tokens': 0}, 'prompt_tokens_details': {'audio_tokens': 0, 'cached_tokens': 0}}, 'model_name': 'gpt-4o-2024-05-13', 'system_fingerprint': 'fp_b705f0c291', 'prompt_filter_results': [{'prompt_index': 0, 'content_filter_results': {'hate': {'filtered': False, 'severity': 'safe'}, 'self_harm': {'filtered': False, 'severity': 'safe'}, 'sexual': {'filtered': False, 'severity': 'safe'}, 'violence': {'filtered': False, 'severity': 'safe'}}}], 'finish_reason': 'stop', 'logprobs': None, 'content_filter_results': {'hate': {'filtered': False, 'severity': 'safe'}, 'self_harm': {'filtered': False, 'severity': 'safe'}, 'sexual': {'filtered': False, 'severity': 'safe'}, 'violence': {'filtered': False, 'severity': 'safe'}}}, id='run-4e67be14-badc-4857-9147-5b4acc79d5f0-0', usage_metadata={'input_tokens': 18, 'output_tokens': 566, 'total_tokens': 584, 'input_token_details': {'audio': 0, 'cache_read': 0}, 'output_token_details': {'audio': 0, 'reasoning': 0}}),\n",
       " HumanMessage(content='Tell me where Orcas live!', additional_kwargs={}, response_metadata={}, name='Souvik', id='4f54ef7f-ae1d-4f80-8c7e-0626220ef234')]"
      ]
     },
     "execution_count": 39,
     "metadata": {},
     "output_type": "execute_result"
    }
   ],
   "source": [
    "# Example of trimming messages\n",
    "trim_messages(\n",
    "            messages,\n",
    "            max_tokens=800,\n",
    "            strategy=\"last\",\n",
    "            token_counter=llm,\n",
    "            allow_partial=False\n",
    "        )"
   ]
  },
  {
   "cell_type": "code",
   "execution_count": 40,
   "id": "ed70a269-a869-4fa0-a1df-29736a432c51",
   "metadata": {},
   "outputs": [],
   "source": [
    "# Invoke, using message trimming in the chat_model_node \n",
    "messages_out_trim = graph.invoke({'messages': messages})"
   ]
  },
  {
   "cell_type": "code",
   "execution_count": 41,
   "id": "c6772f7b",
   "metadata": {},
   "outputs": [
    {
     "data": {
      "text/plain": [
       "{'messages': [AIMessage(content='Hi.', additional_kwargs={}, response_metadata={}, name='Bot', id='1'),\n",
       "  HumanMessage(content='Hi.', additional_kwargs={}, response_metadata={}, name='Souvik', id='2'),\n",
       "  AIMessage(content='So you said you were researching ocean mammals?', additional_kwargs={}, response_metadata={}, name='Bot', id='3'),\n",
       "  HumanMessage(content='Yes, I know about whales. But what others should I learn about?', additional_kwargs={}, response_metadata={}, name='Souvik', id='4'),\n",
       "  AIMessage(content=\"That's great that you know about whales! There are many other fascinating ocean mammals you can learn about. Here are a few:\\n\\n1. **Dolphins**: Highly intelligent and social animals, dolphins are known for their playful behavior and complex communication skills.\\n\\n2. **Porpoises**: Similar to dolphins but generally smaller and with different facial structures, porpoises are also interesting marine mammals.\\n\\n3. **Seals**: There are various species of seals, including harbor seals and elephant seals. They are known for their ability to live both in water and on land.\\n\\n4. **Sea Lions**: Often confused with seals, sea lions are more agile on land due to their ability to rotate their hind flippers forward.\\n\\n5. **Walruses**: Recognizable by their long tusks and whiskers, walruses are large marine mammals that live in Arctic regions.\\n\\n6. **Manatees and Dugongs**: These gentle giants, also known as sea cows, are herbivorous and can be found in warm coastal waters and rivers.\\n\\n7. **Sea Otters**: Known for their use of tools to open shellfish, sea otters are important for maintaining the health of kelp forest ecosystems.\\n\\n8. **Polar Bears**: While not exclusively marine, polar bears spend much of their time on sea ice and are excellent swimmers.\\n\\nEach of these animals has unique adaptations and behaviors that make them fascinating subjects of study.\", additional_kwargs={'refusal': None}, response_metadata={'token_usage': {'completion_tokens': 293, 'prompt_tokens': 40, 'total_tokens': 333, 'completion_tokens_details': {'accepted_prediction_tokens': 0, 'audio_tokens': 0, 'reasoning_tokens': 0, 'rejected_prediction_tokens': 0}, 'prompt_tokens_details': {'audio_tokens': 0, 'cached_tokens': 0}}, 'model_name': 'gpt-4o-2024-05-13', 'system_fingerprint': 'fp_b705f0c291', 'prompt_filter_results': [{'prompt_index': 0, 'content_filter_results': {'hate': {'filtered': False, 'severity': 'safe'}, 'self_harm': {'filtered': False, 'severity': 'safe'}, 'sexual': {'filtered': False, 'severity': 'safe'}, 'violence': {'filtered': False, 'severity': 'safe'}}}], 'finish_reason': 'stop', 'logprobs': None, 'content_filter_results': {'hate': {'filtered': False, 'severity': 'safe'}, 'self_harm': {'filtered': False, 'severity': 'safe'}, 'sexual': {'filtered': False, 'severity': 'safe'}, 'violence': {'filtered': False, 'severity': 'safe'}}}, id='run-2c070311-f822-44e5-a766-476f62446880-0', usage_metadata={'input_tokens': 40, 'output_tokens': 293, 'total_tokens': 333, 'input_token_details': {'audio': 0, 'cache_read': 0}, 'output_token_details': {'audio': 0, 'reasoning': 0}}),\n",
       "  HumanMessage(content='Tell me more about Narwhals!', additional_kwargs={}, response_metadata={}, name='Souvik', id='8655b8ba-0b38-44e6-aeb8-9171357a72f1'),\n",
       "  AIMessage(content='Narwhals (Monodon monoceros) are fascinating marine mammals known for their distinctive long, spiral tusks that protrude from their heads. Here are some key points about narwhals:\\n\\n### Physical Characteristics:\\n1. **Tusks**: The most notable feature of narwhals is the long tusk, which is actually an elongated upper left canine tooth. In males, this tusk can grow up to 10 feet (3 meters) long. Some females also have tusks, but they are usually shorter and less common.\\n2. **Size**: Narwhals are medium-sized whales, with males typically reaching lengths of 13-18 feet (4-5.5 meters) and females being slightly smaller.\\n3. **Coloration**: They have a mottled black and white coloration, which helps them blend into their Arctic environment.\\n\\n### Habitat:\\n- Narwhals are primarily found in the Arctic waters around Greenland, Canada, and Russia. They are well-adapted to life in cold, icy environments and are often found in areas with heavy pack ice.\\n\\n### Behavior and Diet:\\n- **Diving**: Narwhals are deep divers and can reach depths of up to 1,500 meters (4,900 feet) in search of food. They are known to dive multiple times a day.\\n- **Diet**: Their diet mainly consists of fish, squid, and shrimp. They use echolocation to find their prey in the dark, deep waters.\\n- **Social Structure**: Narwhals are social animals and are often found in groups called pods, which can range from a few individuals to several dozen.\\n\\n### Reproduction:\\n- Narwhals have a slow reproductive rate. Females give birth to a single calf after a gestation period of about 14 months. Calves are usually born in the summer when the ice is at its minimum.\\n\\n### Conservation Status:\\n- Narwhals are currently classified as \"Near Threatened\" by the International Union for Conservation of Nature (IUCN). They face threats from climate change, which affects their icy habitat, as well as from hunting and industrial activities in the Arctic.\\n\\n### Cultural Significance:\\n- Narwhals have been part of Inuit culture for centuries, and their tusks were historically traded as \"unicorn horns\" in medieval Europe, contributing to the myth of the unicorn.\\n\\n### Research and Study:\\n- Scientists continue to study narwhals to understand more about their behavior, biology, and how they are adapting to changing Arctic conditions. Their tusks are of particular interest, as they contain sensory capabilities that help narwhals detect changes in their environment.\\n\\nNarwhals are truly unique creatures, and ongoing research is crucial to ensure their conservation and to understand the impacts of environmental changes on their populations.', additional_kwargs={'refusal': None}, response_metadata={'token_usage': {'completion_tokens': 566, 'prompt_tokens': 18, 'total_tokens': 584, 'completion_tokens_details': {'accepted_prediction_tokens': 0, 'audio_tokens': 0, 'reasoning_tokens': 0, 'rejected_prediction_tokens': 0}, 'prompt_tokens_details': {'audio_tokens': 0, 'cached_tokens': 0}}, 'model_name': 'gpt-4o-2024-05-13', 'system_fingerprint': 'fp_b705f0c291', 'prompt_filter_results': [{'prompt_index': 0, 'content_filter_results': {'hate': {'filtered': False, 'severity': 'safe'}, 'self_harm': {'filtered': False, 'severity': 'safe'}, 'sexual': {'filtered': False, 'severity': 'safe'}, 'violence': {'filtered': False, 'severity': 'safe'}}}], 'finish_reason': 'stop', 'logprobs': None, 'content_filter_results': {'hate': {'filtered': False, 'severity': 'safe'}, 'self_harm': {'filtered': False, 'severity': 'safe'}, 'sexual': {'filtered': False, 'severity': 'safe'}, 'violence': {'filtered': False, 'severity': 'safe'}}}, id='run-4e67be14-badc-4857-9147-5b4acc79d5f0-0', usage_metadata={'input_tokens': 18, 'output_tokens': 566, 'total_tokens': 584, 'input_token_details': {'audio': 0, 'cache_read': 0}, 'output_token_details': {'audio': 0, 'reasoning': 0}}),\n",
       "  HumanMessage(content='Tell me where Orcas live!', additional_kwargs={}, response_metadata={}, name='Souvik', id='4f54ef7f-ae1d-4f80-8c7e-0626220ef234'),\n",
       "  AIMessage(content=\"Orcas, also known as killer whales (Orcinus orca), are highly adaptable and can be found in a wide range of marine environments around the world. Here are some key points about their habitats:\\n\\n### Global Distribution:\\n1. **Worldwide Presence**: Orcas are found in all of the world's oceans, from the Arctic and Antarctic regions to tropical seas. They are one of the most widely distributed marine mammals.\\n2. **Coastal and Offshore Waters**: They inhabit both coastal and offshore waters. Coastal populations are often found in areas with abundant prey, such as along continental shelves, while offshore populations can be found in deeper waters.\\n\\n### Specific Regions:\\n1. **Arctic and Antarctic**: Orcas are commonly found in the cold waters of the Arctic and Antarctic. They are well-adapted to these environments and can navigate through ice-covered regions.\\n2. **North Pacific**: Significant populations of orcas are found in the North Pacific, particularly around the coasts of Alaska, British Columbia, and the Pacific Northwest of the United States.\\n3. **North Atlantic**: Orcas are also present in the North Atlantic, including around Norway, Iceland, and the British Isles.\\n4. **Southern Ocean**: In the Southern Hemisphere, orcas are found around the coasts of Antarctica, as well as in the waters off New Zealand, Australia, and South Africa.\\n\\n### Ecotypes and Specializations:\\nOrcas are known to have different ecotypes, which are groups that have distinct behaviors, diets, and social structures. These ecotypes often inhabit specific regions and have adapted to their local environments:\\n1. **Resident Orcas**: These orcas are typically found in coastal waters and have a diet primarily consisting of fish, particularly salmon. They are known for their stable, matrilineal social structures.\\n2. **Transient (Bigg's) Orcas**: These orcas are more nomadic and have a diet that mainly includes marine mammals such as seals, sea lions, and other whales. They are often found in coastal waters but can travel long distances.\\n3. **Offshore Orcas**: These orcas are found in deeper, offshore waters and have a more varied diet that includes fish and sharks. They are less well-studied compared to resident and transient orcas.\\n\\n### Adaptability:\\nOrcas' ability to thrive in diverse environments is due to their intelligence, complex social structures, and versatile hunting techniques. They are apex predators and have no natural enemies, allowing them to occupy a wide range of habitats.\\n\\nOverall, orcas are incredibly adaptable and can be found in nearly every oceanic region, making them one of the most widespread marine mammals on the planet.\", additional_kwargs={'refusal': None}, response_metadata={'token_usage': {'completion_tokens': 548, 'prompt_tokens': 587, 'total_tokens': 1135, 'completion_tokens_details': {'accepted_prediction_tokens': 0, 'audio_tokens': 0, 'reasoning_tokens': 0, 'rejected_prediction_tokens': 0}, 'prompt_tokens_details': {'audio_tokens': 0, 'cached_tokens': 0}}, 'model_name': 'gpt-4o-2024-05-13', 'system_fingerprint': 'fp_b705f0c291', 'prompt_filter_results': [{'prompt_index': 0, 'content_filter_results': {'hate': {'filtered': False, 'severity': 'safe'}, 'self_harm': {'filtered': False, 'severity': 'safe'}, 'sexual': {'filtered': False, 'severity': 'safe'}, 'violence': {'filtered': False, 'severity': 'safe'}}}], 'finish_reason': 'stop', 'logprobs': None, 'content_filter_results': {'hate': {'filtered': False, 'severity': 'safe'}, 'self_harm': {'filtered': False, 'severity': 'safe'}, 'sexual': {'filtered': False, 'severity': 'safe'}, 'violence': {'filtered': False, 'severity': 'safe'}}}, id='run-8d57e59c-4c52-4197-bebc-ba97e99add53-0', usage_metadata={'input_tokens': 587, 'output_tokens': 548, 'total_tokens': 1135, 'input_token_details': {'audio': 0, 'cache_read': 0}, 'output_token_details': {'audio': 0, 'reasoning': 0}})]}"
      ]
     },
     "execution_count": 41,
     "metadata": {},
     "output_type": "execute_result"
    }
   ],
   "source": [
    "messages_out_trim"
   ]
  },
  {
   "cell_type": "markdown",
   "id": "38b3db67-380e-46b5-9a6a-20100ba52008",
   "metadata": {},
   "source": [
    "Let's look at the LangSmith trace to see the model invocation:\n",
    "\n",
    "https://smith.langchain.com/public/2f9903da-b411-4494-a87d-677a7abd3591/r"
   ]
  }
 ],
 "metadata": {
  "kernelspec": {
   "display_name": "langchain",
   "language": "python",
   "name": "python3"
  },
  "language_info": {
   "codemirror_mode": {
    "name": "ipython",
    "version": 3
   },
   "file_extension": ".py",
   "mimetype": "text/x-python",
   "name": "python",
   "nbconvert_exporter": "python",
   "pygments_lexer": "ipython3",
   "version": "3.11.11"
  }
 },
 "nbformat": 4,
 "nbformat_minor": 5
}
